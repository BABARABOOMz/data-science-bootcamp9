import pandas as pd
import mplfinance as mpf
from binance.client import Client
import yfinance as yf

start= '2022-01-01'
end = '2023-01-01'

data = yf.download('ETH-USD',period='1d', start=start,end=end)
----------------------------------------
data
----------------------------------------
mpf.plot(data,type='line')
----------------------------------------
mpf.plot(data[:'2022-01'], type='candle' , volume=True , figsize=(20,10))
----------------------------------------
mpf.plot(data['2022-06':'2022-12'], hlines=dict(hlines=[2000, 1100], colors=['r','g'], linestyle='dotted'), type='candle')
----------------------------------------
mpf.plot(data['2022-06':'2022-12'], hlines=dict(hlines=[2000, 1100], colors=['r','g'], linestyle='-'), type='candle')
----------------------------------------
mpf.plot(data['2022-01':'2022-07'], type='candle',volume=True, mav=(12,26,50),figsize=(20,30))
----------------------------------------
mpf.plot(data['2022-06':'2022-07'], type='candle', mav=(12,26))
