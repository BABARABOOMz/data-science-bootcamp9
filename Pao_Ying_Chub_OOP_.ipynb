{
  "nbformat": 4,
  "nbformat_minor": 0,
  "metadata": {
    "colab": {
      "provenance": [],
      "authorship_tag": "ABX9TyPfB0W0EdR766zp5D3xHeKj",
      "include_colab_link": true
    },
    "kernelspec": {
      "name": "python3",
      "display_name": "Python 3"
    },
    "language_info": {
      "name": "python"
    }
  },
  "cells": [
    {
      "cell_type": "markdown",
      "metadata": {
        "id": "view-in-github",
        "colab_type": "text"
      },
      "source": [
        "<a href=\"https://colab.research.google.com/github/BABARABOOMz/data-science-bootcamp9/blob/main/Pao_Ying_Chub_OOP_.ipynb\" target=\"_parent\"><img src=\"https://colab.research.google.com/assets/colab-badge.svg\" alt=\"Open In Colab\"/></a>"
      ]
    },
    {
      "cell_type": "markdown",
      "source": [
        "## **Pao_Ying_Chub**\n",
        "\n"
      ],
      "metadata": {
        "id": "Yk1X6aEfCSrO"
      }
    },
    {
      "cell_type": "code",
      "source": [
        "import random\n",
        "\n",
        "name = input(\"Hi,What is your name?\")\n",
        "play1 = print(\"Hi,\" + name +\" \" +\"are you ready?\")\n",
        "print(\"Battle start!!\")\n",
        "score = [0]\n",
        "com_score = [0]\n",
        "def    play(player):\n",
        "        m = (\"r\",\"p\",\"s\")\n",
        "        d = {\"r\": \"Rock\", \"p\": \"Paper\", \"s\": \"Scissors\"}\n",
        "        ##computer = random.choice(list(d.keys()))\n",
        "        computer =m[random.randrange(len(m))]\n",
        "        if player == computer:\n",
        "          result = \"Draw\"\n",
        "        elif player == \"r\" and computer == \"s\":\n",
        "          result = \"Win\"\n",
        "        elif player == \"p\" and computer == \"r\":\n",
        "            result = \"Win\"\n",
        "        elif player == \"s\" and computer == \"p\":\n",
        "            result = \"Win\"\n",
        "        else:\n",
        "            result = \"Lose\"\n",
        "        print(name +\": {} Vs. Com: {}\".format(d[player], d[computer]))\n",
        "        print(\"Result:{}\".format(result))\n",
        "        if result == \"Win\":\n",
        "            score.append(1)\n",
        "        if result == \"Lose\":\n",
        "            com_score.append(1)\n",
        "        else:\n",
        "            score.append(0)\n",
        "while True:\n",
        "    player = input(\"r : Rock , p : Paper , s: Scissors  Answer :  \")\n",
        "    if player == 'r':\n",
        "       play(player)\n",
        "    elif player == 'p':\n",
        "       play(player)\n",
        "    elif player == 's':\n",
        "        play(player)\n",
        "    else:\n",
        "        print(name,\": \",sum(score))\n",
        "        print(\"Com: \",sum(com_score))\n",
        "        if sum(score) > sum(com_score):\n",
        "            print(name +\": Win!! See u next time!\")\n",
        "        elif sum(score) == sum(com_score):\n",
        "            print(\": Draw! See u next time!\")\n",
        "        else:\n",
        "            print(name + \": Lose !!! See u next time!\")\n",
        "        break"
      ],
      "metadata": {
        "id": "sBlfAT1F09LN"
      },
      "execution_count": null,
      "outputs": []
    },
    {
      "cell_type": "markdown",
      "source": [
        "## **Object Oriented Programming**"
      ],
      "metadata": {
        "id": "Qvy-cccfw5L3"
      }
    },
    {
      "cell_type": "code",
      "execution_count": 32,
      "metadata": {
        "id": "zoDqoPYA9lKf",
        "colab": {
          "base_uri": "https://localhost:8080/"
        },
        "outputId": "4874bc39-0666-48a3-bdde-7609a4c9c103"
      },
      "outputs": [
        {
          "output_type": "stream",
          "name": "stdout",
          "text": [
            "Boom works at Datarockie\n",
            "Boom worked for 3 years, my current salary is 33275.0 THB \n",
            "Boom,the most skilled is SQL\n",
            "Beam works at Agoda\n",
            "Beam worked for 4 years, my current salary is 51243.5 THB \n",
            "Beam,the most skilled is Python\n",
            "Tonsai works at ThaiAirway\n",
            "Tonsai worked for 7 years, my current salary is 97435.85500000001 THB \n",
            "Tonsai,the most skilled is Rlanguage\n"
          ]
        }
      ],
      "source": [
        "class DataAnalyst():\n",
        "    def __init__(self, name, company, workexp,salary,skill):\n",
        "        self.name = name\n",
        "        self.company = company\n",
        "        self.workexp = workexp\n",
        "        self.salary = salary\n",
        "        self.skill = skill\n",
        "    def hello(self):\n",
        "        print(f\"{self.name} works at {self.company}\")\n",
        "    def salarynow(self):\n",
        "        for i in range(self.workexp):\n",
        "            salary_increase = self.salary * 0.1\n",
        "            self.salary += salary_increase\n",
        "        print(f\"{self.name} worked for {self.workexp} years, my current salary is {self.salary} THB \")\n",
        "    def myskill(self):\n",
        "        print(f\"{self.name},the most skilled is {self.skill}\")\n",
        "\n",
        "boom = DataAnalyst(\"Boom\",\"Datarockie\",3,25000,\"SQL\")\n",
        "beam = DataAnalyst(\"Beam\",\"Agoda\",4,35000,\"Python\")\n",
        "tonsai = DataAnalyst(\"Tonsai\",\"ThaiAirway\",7,50000,\"Rlanguage\")\n",
        "boom.hello()\n",
        "boom.salarynow()\n",
        "boom.myskill()\n",
        "beam.hello()\n",
        "beam.salarynow()\n",
        "beam.myskill()\n",
        "tonsai.hello()\n",
        "tonsai.salarynow()\n",
        "tonsai.myskill()"
      ]
    },
    {
      "cell_type": "code",
      "source": [],
      "metadata": {
        "id": "xJVB_Lt6bBGT"
      },
      "execution_count": null,
      "outputs": []
    }
  ]
}